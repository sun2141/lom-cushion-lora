{
 "cells": [
  {
   "cell_type": "code",
   "source": [
    "# Hugging Face Dataset에서 이미지 다운로드\n",
    "!git clone https://huggingface.co/datasets/sun2141/lom-cushion-images\n",
    "\n",
    "from pathlib import Path\n",
    "image_dir = Path('lom-cushion-images/images')"
   ],
   "metadata": {}
  },
  {
   "cell_type": "code",
   "source": [
    "# 나머지 학습 코드 (LoRA 학습 파이프라인)"
   ],
   "metadata": {}
  }
 ],
 "metadata": {},
 "nbformat": 4,
 "nbformat_minor": 2
}
